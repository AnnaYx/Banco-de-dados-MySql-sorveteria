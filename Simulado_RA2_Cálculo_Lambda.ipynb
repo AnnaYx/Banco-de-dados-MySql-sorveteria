{
  "nbformat": 4,
  "nbformat_minor": 0,
  "metadata": {
    "colab": {
      "provenance": [],
      "include_colab_link": true
    },
    "kernelspec": {
      "name": "python3",
      "display_name": "Python 3"
    },
    "language_info": {
      "name": "python"
    }
  },
  "cells": [
    {
      "cell_type": "markdown",
      "metadata": {
        "id": "view-in-github",
        "colab_type": "text"
      },
      "source": [
        "<a href=\"https://colab.research.google.com/github/AnnaYx/Banco-de-dados-MySql-sorveteria/blob/main/Simulado_RA2_C%C3%A1lculo_Lambda.ipynb\" target=\"_parent\"><img src=\"https://colab.research.google.com/assets/colab-badge.svg\" alt=\"Open In Colab\"/></a>"
      ]
    },
    {
      "cell_type": "markdown",
      "source": [
        "1. Considere a função `foldRight` para listas em cálculo lambda:\n",
        "   $$ \\text{foldRight} = Y\\;(\\lambda f. \\lambda g. \\lambda a. \\lambda l. l\\;(\\lambda h. \\lambda t. g\\;h\\;(f\\;g\\;a\\;t))\\;a) $$\n",
        "   Onde $Y$ é o combinador de ponto fixo. Use `foldRight` para implementar a função `length` que calcula o comprimento de uma lista.\n",
        "\n",
        "2. Aplique a função `head` à lista $[5, 6, 7]$ construída no cálculo lambda. A função `head` é definida como:\n",
        "   $$ \\text{head} = \\lambda l.\\;l\\;(\\lambda h. \\lambda t.\\;h)\\;(\\lambda x.\\;x) $$\n",
        "\n",
        "3. Calcule a expressão $(\\lambda x.\\;x)\\;((\\lambda y.\\;y+1)\\;5)\\,$.\n",
        "\n",
        "4. Aplique a função $\\text{Not}$ ao valor $\\text{True}\\,$. A função $\\text{Not}$ é definida como:\n",
        "   $$ \\text{Not} = \\lambda b.\\;b\\;\\text{False}\\;\\text{True} $$\n",
        "\n",
        "5. Aplique a redução-$\\alpha$ na expressão $\\lambda x.\\;(\\lambda y.\\;x - y)\\,$, renomeando $y$ para $v$ utilizando a redução-$\\alpha\\,$.\n",
        "\n",
        "6. Dada a função de multiplicação em cálculo lambda:\n",
        "   $$ \\text{mult} = \\lambda m. \\lambda n. \\lambda f. m\\;(n\\;f) $$\n",
        "   Calcule $\\text{mult}\\;2\\;3$ usando os números de Church.\n",
        "\n",
        "7. Considere o combinador Y definido como:\n",
        "   $$ Y = \\lambda f. (\\lambda x. f\\;(x\\;x)) (\\lambda x. f\\;(x\\;x)) $$\n",
        "   Aplique o combinador Y à função $\\lambda f. \\lambda n. \\text{if}\\;n = 0\\;\\text{then}\\;1\\;\\text{else}\\;n \\times (f\\;(n-1))$ para definir a função fatorial.\n",
        "\n",
        "8. Dado o combinador de composição $B$ definido como:\n",
        "   $$ B = \\lambda f. \\lambda g. \\lambda x. f\\;(g\\;x) $$\n",
        "   Aplique $B$ às funções $\\lambda x. x + 1$ e $\\lambda x. x \\times 2$, e então aplique o resultado a 3.\n",
        "\n",
        "9. Considere a função `map` para listas em cálculo lambda:\n",
        "   $$ \\text{map} = Y\\;(\\lambda f. \\lambda g. \\lambda l. l\\;(\\lambda h. \\lambda t. \\text{cons}\\;(g\\;h)\\;(f\\;g\\;t))\\;\\text{nil}) $$\n",
        "   Onde $Y$ é o combinador de ponto fixo, `cons` é o construtor de lista, e `nil` é a lista vazia. Aplique `map` à lista $[1, 2, 3]$ com a função $g = \\lambda x. x \\times 2\\,$.\n",
        "\n",
        "10. Dada a definição do combinador $S$:\n",
        "    \n",
        "    $$ S = \\lambda x. \\lambda y. \\lambda z. x\\;z\\;(y\\;z)$$\n",
        "    \n",
        "    Calcule $S\\;K\\;K\\;x$, onde $K = \\lambda x. \\lambda y. x$ é o combinador constante."
      ],
      "metadata": {
        "id": "3s1jjcLqF5iF"
      }
    }
  ]
}