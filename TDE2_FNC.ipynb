{
  "nbformat": 4,
  "nbformat_minor": 0,
  "metadata": {
    "colab": {
      "provenance": [],
      "include_colab_link": true
    },
    "kernelspec": {
      "name": "python3",
      "display_name": "Python 3"
    },
    "language_info": {
      "name": "python"
    }
  },
  "cells": [
    {
      "cell_type": "markdown",
      "metadata": {
        "id": "view-in-github",
        "colab_type": "text"
      },
      "source": [
        "<a href=\"https://colab.research.google.com/github/AnnaYx/Banco-de-dados-MySql-sorveteria/blob/main/TDE2_FNC.ipynb\" target=\"_parent\"><img src=\"https://colab.research.google.com/assets/colab-badge.svg\" alt=\"Open In Colab\"/></a>"
      ]
    },
    {
      "cell_type": "code",
      "source": [
        "# Importa a biblioteca sympy e seus módulos para manipulação de álgebra booleana\n",
        "import sympy as sp\n",
        "from sympy.logic.boolalg import Or, And, Not\n",
        "from sympy.abc import A, B, C\n",
        "\n",
        "# Função que converte uma fórmula em LaTeX para uma expressão do SymPy\n",
        "def latex_to_sympy(formula_latex):\n",
        "    # Substitui os comandos LaTeX pelos operadores equivalentes do SymPy e converte a string em uma expressão SymPy\n",
        "    formula_sympy = sp.sympify(formula_latex.replace(r'\\neg', '~').replace(r'\\vee', '|').replace(r'\\wedge', '&'))\n",
        "    return formula_sympy\n",
        "\n",
        "# Função que converte uma expressão do SymPy para sua forma normal conjuntiva (FNC)\n",
        "def convert_to_cnf(formula_sympy):\n",
        "    return sp.to_cnf(formula_sympy, simplify=True)  # Simplifica a fórmula na conversão\n",
        "\n",
        "# Função que converte uma fórmula SymPy para uma representação legível\n",
        "def sympy_to_readable(formula_sympy):\n",
        "    \"\"\"Converte a fórmula Sympy para uma representação legível.\"\"\"\n",
        "    # Substitui os operadores do SymPy por símbolos legíveis\n",
        "    return str(formula_sympy).replace('&', '^').replace('|', 'V').replace('~', '~')\n",
        "\n",
        "# Função que processa um arquivo de entrada e gera um arquivo de saída com fórmulas em FNC\n",
        "def process_file(input_file, output_file):\n",
        "    # Abre o arquivo de entrada para leitura\n",
        "    with open(input_file, 'r') as f:\n",
        "        num_formulas = int(f.readline().strip())  # Lê o número de fórmulas\n",
        "        formulas_latex = [f.readline().strip() for _ in range(num_formulas)]  # Lê cada fórmula em LaTeX\n",
        "\n",
        "    formulas_fnc_readable = []  # Lista para armazenar as fórmulas em FNC\n",
        "    # Para cada fórmula lida, converte e armazena na lista\n",
        "    for formula in formulas_latex:\n",
        "        formula_sympy = latex_to_sympy(formula)  # Converte de LaTeX para SymPy\n",
        "        formula_fnc = convert_to_cnf(formula_sympy)  # Converte para FNC\n",
        "        formula_fnc_readable = sympy_to_readable(formula_fnc)  # Torna a fórmula legível\n",
        "        formulas_fnc_readable.append(formula_fnc_readable)  # Adiciona à lista\n",
        "\n",
        "    # Abre o arquivo de saída para escrita\n",
        "    with open(output_file, 'w') as f:\n",
        "        f.write(f\"{num_formulas}\\n\")  # Escreve o número de fórmulas\n",
        "        for formula in formulas_fnc_readable:\n",
        "            f.write(formula + \"\\n\")  # Escreve cada fórmula convertida\n",
        "\n",
        "    # Renderiza no terminal de forma legível\n",
        "    for formula in formulas_fnc_readable:\n",
        "        print(f\"Fórmula em FNC: {formula}\")  # Imprime cada fórmula no terminal\n",
        "\n",
        "# Bloco principal que executa o script\n",
        "if __name__ == \"__main__\":\n",
        "    input_file = 'formulas_latex.txt'  # Nome do arquivo de entrada\n",
        "    output_file = 'formulas_fnc_latex.txt'  # Nome do arquivo de saída\n",
        "    process_file(input_file, output_file)  # Chama a função para processar o arquivo\n"
      ],
      "metadata": {
        "colab": {
          "base_uri": "https://localhost:8080/"
        },
        "id": "UQ1WoHqF2qmz",
        "outputId": "93a61421-f959-407a-8230-fbd909db0e73"
      },
      "execution_count": null,
      "outputs": [
        {
          "output_type": "stream",
          "name": "stdout",
          "text": [
            "Fórmula em FNC: A ^ (B V C)\n",
            "Fórmula em FNC: (B V ~A) ^ (C V ~A)\n",
            "Fórmula em FNC: A V C V ~B\n",
            "Fórmula em FNC: (A V C) ^ (B V C) ^ (A V ~D) ^ (B V ~D)\n",
            "Fórmula em FNC: (A V B) ^ (C V ~D)\n"
          ]
        }
      ]
    }
  ]
}